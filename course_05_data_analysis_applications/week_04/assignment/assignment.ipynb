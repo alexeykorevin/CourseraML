{
 "cells": [
  {
   "cell_type": "markdown",
   "metadata": {},
   "source": [
    "# Рекомендательные системы"
   ]
  },
  {
   "cell_type": "markdown",
   "metadata": {},
   "source": [
    "## Описание задачи"
   ]
  },
  {
   "cell_type": "markdown",
   "metadata": {},
   "source": [
    "Небольшой интернет-магазин попросил вас добавить ранжирование товаров в блок \"Смотрели ранее\" - в нем теперь надо показывать не последние просмотренные пользователем товары, а те товары из просмотренных, которые он наиболее вероятно купит. Качество вашего решения будет оцениваться по количеству покупок в сравнении с прошлым решением в ходе А/В теста, т.к. по доходу от продаж статзначимость будет достигаться дольше из-за разброса цен. Таким образом, ничего заранее не зная про корреляцию оффлайновых и онлайновых метрик качества, в начале проекта вы можете лишь постараться оптимизировать recall@k и precision@k.\n",
    "\n",
    "Это задание посвящено построению простых бейзлайнов для этой задачи: ранжирование просмотренных товаров по частоте просмотров и по частоте покупок. Эти бейзлайны, с одной стороны, могут помочь вам грубо оценить возможный эффект от ранжирования товаров в блоке - например, чтобы вписать какие-то числа в коммерческое предложение заказчику, а с другой стороны, могут оказаться самым хорошим вариантом, если данных очень мало (недостаточно для обучения даже простых моделей)."
   ]
  },
  {
   "cell_type": "markdown",
   "metadata": {},
   "source": [
    "## Входные данные"
   ]
  },
  {
   "cell_type": "markdown",
   "metadata": {},
   "source": [
    "Вам дается две выборки с пользовательскими сессиями - id-шниками просмотренных и id-шниками купленных товаров. Одна выборка будет использоваться для обучения (оценки популярностей товаров), а другая - для теста.\n",
    "\n",
    "В файлах записаны сессии по одной в каждой строке. Формат сессии: id просмотренных товаров через , затем идёт ; после чего следуют id купленных товаров (если такие имеются), разделённые запятой. Например, 1,2,3,4; или 1,2,3,4;5,6.\n",
    "\n",
    "Гарантируется, что среди id купленных товаров все различные."
   ]
  },
  {
   "cell_type": "code",
   "execution_count": 77,
   "metadata": {},
   "outputs": [],
   "source": [
    "import numpy as np\n",
    "from collections import Counter"
   ]
  },
  {
   "cell_type": "markdown",
   "metadata": {},
   "source": [
    "На обучении постройте частоты появления id в просмотренных и в купленных (id может несколько раз появляться в просмотренных, все появления надо учитывать)"
   ]
  },
  {
   "cell_type": "code",
   "execution_count": 64,
   "metadata": {},
   "outputs": [],
   "source": [
    "def freq_file(file):\n",
    "    viewed_count = Counter()\n",
    "    buyed_count = Counter()\n",
    "    \n",
    "    with open(file, 'rt') as f:\n",
    "        for line in f.readlines():\n",
    "            viewed, buyed = line.strip().split(';')\n",
    "                \n",
    "            viewed = viewed.split(',')\n",
    "            buyed = buyed.split(',')\n",
    "            \n",
    "            for item in viewed:\n",
    "                viewed_count[item] += 1\n",
    "            for item in buyed:\n",
    "                buyed_count[item] += 1\n",
    "            \n",
    "    return viewed_count, buyed_count"
   ]
  },
  {
   "cell_type": "code",
   "execution_count": 65,
   "metadata": {},
   "outputs": [],
   "source": [
    "def read_file(file):   \n",
    "    data = []\n",
    "    \n",
    "    with open(file, 'rt') as f:\n",
    "        for line in f.readlines():\n",
    "            viewed, buyed = line.strip().split(';')  \n",
    "            \n",
    "            if len(buyed) == 0:\n",
    "                continue\n",
    "                \n",
    "            viewed = viewed.split(',')\n",
    "            buyed = buyed.split(',')\n",
    "            \n",
    "            data.append((viewed,buyed))\n",
    "            \n",
    "    return data"
   ]
  },
  {
   "cell_type": "code",
   "execution_count": 66,
   "metadata": {},
   "outputs": [],
   "source": [
    "viewed_count, buyed_count = freq_file('coursera_sessions_train.txt')"
   ]
  },
  {
   "cell_type": "code",
   "execution_count": 67,
   "metadata": {},
   "outputs": [],
   "source": [
    "train_data = read_file('coursera_sessions_train.txt')\n",
    "test_data = read_file('coursera_sessions_test.txt')"
   ]
  },
  {
   "cell_type": "markdown",
   "metadata": {},
   "source": [
    "Реализуйте два алгоритма рекомендаций:\n",
    "- сортировка просмотренных id по популярности (частота появления в просмотренных),\n",
    "- сортировка просмотренных id по покупаемости (частота появления в покупках)."
   ]
  },
  {
   "cell_type": "code",
   "execution_count": 78,
   "metadata": {},
   "outputs": [],
   "source": [
    "def predict(viewed, k, method='popular'):\n",
    "    unique_viewed = np.array(viewed)[np.sort(np.unique(viewed, return_index=True)[1])]\n",
    "    k = min(len(viewed), k)    \n",
    "    ratings = []\n",
    "    \n",
    "    for item in unique_viewed:\n",
    "        if method == 'popular':\n",
    "            ratings.append(-viewed_count[item])\n",
    "        else:\n",
    "            ratings.append(-buyed_count[item])\n",
    "    \n",
    "    sorted_items = np.argsort(ratings)\n",
    "    return list(unique_viewed[sorted_items])[0:k]"
   ]
  },
  {
   "cell_type": "markdown",
   "metadata": {},
   "source": [
    "Для данных алгоритмов выпишите через пробел AverageRecall@1, AveragePrecision@1, AverageRecall@5, AveragePrecision@5 на обучающей и тестовых выборках, округляя до 2 знака после запятой. Это будут ваши ответы в этом задании. Посмотрите, как они соотносятся друг с другом. Где качество получилось выше? Значимо ли это различие? Обратите внимание на различие качества на обучающей и тестовой выборке в случае рекомендаций по частотам покупки.\n",
    "\n",
    "Если частота одинаковая, то сортировать нужно по возрастанию момента просмотра (чем раньше появился в просмотренных, тем больше приоритет)"
   ]
  },
  {
   "cell_type": "code",
   "execution_count": 79,
   "metadata": {},
   "outputs": [],
   "source": [
    "def precision(predicted, buyed, k):\n",
    "    rb = [x for x in buyed if x in predicted]\n",
    "    return len(rb)/float(k)"
   ]
  },
  {
   "cell_type": "code",
   "execution_count": 80,
   "metadata": {},
   "outputs": [],
   "source": [
    "def recall(predicted, buyed):\n",
    "    rb = [x for x in buyed if x in predicted]\n",
    "    return len(rb)/float(len(buyed))"
   ]
  },
  {
   "cell_type": "code",
   "execution_count": 87,
   "metadata": {},
   "outputs": [],
   "source": [
    "def get_stats(data, method):\n",
    "    ar1 = np.mean([recall(predict(user[0], 1, method=method), user[1]) for user in data])\n",
    "    ap1 = np.mean([precision(predict(user[0], 1, method=method), user[1], 1) for user in data])\n",
    "    ar5 = np.mean([recall(predict(user[0], 5, method=method), user[1]) for user in data])\n",
    "    ap5 = np.mean([precision(predict(user[0], 5, method=method), user[1], 5) for user in data])\n",
    "    \n",
    "    return ar1, ap1, ar5, ap5"
   ]
  },
  {
   "cell_type": "code",
   "execution_count": 88,
   "metadata": {},
   "outputs": [
    {
     "name": "stdout",
     "output_type": "stream",
     "text": [
      "(0.44241489678712514, 0.511640798226164, 0.8245162888663443, 0.21247228381374728)\n",
      "(0.4170598107364819, 0.4810368349249659, 0.8002413034096623, 0.2039836289222374)\n",
      "(0.6888975707711849, 0.8048780487804879, 0.926246040852471, 0.2523835920177384)\n",
      "(0.46017437579852316, 0.5268758526603001, 0.8165208320469471, 0.20878581173260574)\n"
     ]
    }
   ],
   "source": [
    "train_popular = get_stats(train_data, 'popular')\n",
    "print(train_popular)\n",
    "test_popular = get_stats(test_data, 'popular')\n",
    "print(test_popular)\n",
    "train_purch = get_stats(train_data, 'purch')\n",
    "print(train_purch)\n",
    "test_purch = get_stats(test_data, 'purch')\n",
    "print(test_purch)"
   ]
  },
  {
   "cell_type": "code",
   "execution_count": null,
   "metadata": {},
   "outputs": [],
   "source": []
  }
 ],
 "metadata": {
  "kernelspec": {
   "display_name": "Python 3",
   "language": "python",
   "name": "python3"
  },
  "language_info": {
   "codemirror_mode": {
    "name": "ipython",
    "version": 3
   },
   "file_extension": ".py",
   "mimetype": "text/x-python",
   "name": "python",
   "nbconvert_exporter": "python",
   "pygments_lexer": "ipython3",
   "version": "3.7.4"
  }
 },
 "nbformat": 4,
 "nbformat_minor": 2
}
